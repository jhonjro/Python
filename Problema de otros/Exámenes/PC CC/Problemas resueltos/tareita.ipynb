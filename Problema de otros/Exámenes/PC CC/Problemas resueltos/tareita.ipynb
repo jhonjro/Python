{
 "cells": [
  {
   "cell_type": "markdown",
   "metadata": {},
   "source": [
    "# Ordenamiento"
   ]
  },
  {
   "cell_type": "markdown",
   "metadata": {},
   "source": [
    "## Prob. 1"
   ]
  },
  {
   "cell_type": "code",
   "execution_count": 4,
   "metadata": {},
   "outputs": [
    {
     "name": "stdin",
     "output_type": "stream",
     "text": [
      "Por cual columna ordeno  nombre\n"
     ]
    },
    {
     "name": "stdout",
     "output_type": "stream",
     "text": [
      "[['Carlos', 31, 1.7], ['Jimena', 27, 1.65], ['Kike', 24, 1.69], ['Lucero', 23, 1.58], ['Maria', 25, 1.6], ['Roberto', 28, 1.64]]\n"
     ]
    },
    {
     "name": "stdin",
     "output_type": "stream",
     "text": [
      "Por cual columna ordeno  edad\n"
     ]
    },
    {
     "name": "stdout",
     "output_type": "stream",
     "text": [
      "[['Lucero', 23, 1.58], ['Kike', 24, 1.69], ['Maria', 25, 1.6], ['Jimena', 27, 1.65], ['Roberto', 28, 1.64], ['Carlos', 31, 1.7]]\n"
     ]
    },
    {
     "name": "stdin",
     "output_type": "stream",
     "text": [
      "Por cual columna ordeno  0\n"
     ]
    }
   ],
   "source": [
    "# Prob 1\n",
    "datos = [['Maria', 25, 1.60], ['Carlos', 31, 1.70], ['Jimena', 27, 1.65], ['Kike', 24, 1.69], ['Lucero', 23, 1.58], ['Roberto', 28, 1.64]]\n",
    "\n",
    "\n",
    "def indice_menor_elemento(lista):\n",
    "    menor = lista[0][valor]\n",
    "    indice = 0\n",
    "    for i in range(len(lista)):\n",
    "        if lista[i][valor] < menor:\n",
    "            menor = lista[i][valor]\n",
    "            indice = i\n",
    "    return indice\n",
    "\n",
    "\n",
    "def ordenar(lista):\n",
    "    for i in range(len(lista)):\n",
    "        indice = indice_menor_elemento(lista[i:])\n",
    "        aux = lista[indice + i]\n",
    "        lista[indice + i] = lista[i]\n",
    "        lista[i] = aux\n",
    "    return lista\n",
    "\n",
    "\n",
    "dic = {\n",
    "    'nombre': 0,\n",
    "    'edad': 1,\n",
    "    'altura': 2\n",
    "}\n",
    "j = True\n",
    "while j:\n",
    "    x = input('Por cual columna ordeno ')\n",
    "    if x == '0':\n",
    "        j = False\n",
    "    else:\n",
    "        valor = dic.get(x)\n",
    "        ordenar(datos)\n",
    "        print(ordenar(datos))\n"
   ]
  },
  {
   "cell_type": "markdown",
   "metadata": {},
   "source": [
    "### Complejidad algorítmica: $ \\mathcal{O}(n^2)$"
   ]
  },
  {
   "cell_type": "markdown",
   "metadata": {},
   "source": [
    "### Prob. 2"
   ]
  },
  {
   "cell_type": "code",
   "execution_count": 5,
   "metadata": {},
   "outputs": [
    {
     "name": "stdout",
     "output_type": "stream",
     "text": [
      "[{'nombre': 'Rocio Isabel', 'edad': 32, 'puntaje': 3, 'grado': 'bachiller', 'pub': 34}, {'nombre': 'Rodrigo', 'edad': 53, 'puntaje': 8, 'grado': 'doctor', 'pubs': 9}, {'nombre': 'Juan Pablo', 'edad': 25, 'puntaje': 10, 'grado': 'master', 'pub': 1}, {'nombre': 'Ernesto', 'edad': 65, 'puntaje': 12, 'grado': 'master', 'pub': 10}, {'nombre': 'Maria Fernanda', 'edad': 33, 'puntaje': 14, 'grado': 'doctor', 'pub': 1}]\n"
     ]
    }
   ],
   "source": [
    "candidatos = [{'nombre': 'Juan Pablo', 'edad': 25, 'puntaje': 10, 'grado': 'master', 'pub': 1},\n",
    "              {'nombre': 'Rocio Isabel', 'edad': 32, 'puntaje': 3, 'grado': 'bachiller', 'pub': 34},\n",
    "              {'nombre': 'Maria Fernanda', 'edad': 33, 'puntaje': 14, 'grado': 'doctor', 'pub': 1},\n",
    "              {'nombre': 'Rodrigo', 'edad': 53, 'puntaje': 8, 'grado': 'doctor', 'pubs': 9},\n",
    "              {'nombre': 'Ernesto', 'edad': 65, 'puntaje': 12, 'grado': 'master', 'pub': 10}]\n",
    "\n",
    "\n",
    "def indice_menor_elemento(lista):\n",
    "    menor = lista[0].get('puntaje')\n",
    "    indice = 0\n",
    "    for i in range(len(lista)):\n",
    "        if lista[i].get('puntaje') < menor:\n",
    "            menor = lista[i].get('puntaje')\n",
    "            indice = i\n",
    "    return indice\n",
    "\n",
    "\n",
    "def ordenar(lista):\n",
    "    for i in range(len(lista)):\n",
    "        indice = indice_menor_elemento(lista[i:])\n",
    "        aux = lista[indice + i]\n",
    "        lista[indice + i] = lista[i]\n",
    "        lista[i] = aux\n",
    "    return lista\n",
    "\n",
    "ordenar(candidatos)\n",
    "print(ordenar(candidatos))\n"
   ]
  },
  {
   "cell_type": "markdown",
   "metadata": {},
   "source": [
    "### Complejidad algorítmica: $ \\mathcal{O}(n^2)$"
   ]
  },
  {
   "cell_type": "markdown",
   "metadata": {},
   "source": [
    "### Prob. 7"
   ]
  },
  {
   "cell_type": "code",
   "execution_count": 6,
   "metadata": {},
   "outputs": [
    {
     "name": "stdout",
     "output_type": "stream",
     "text": [
      "[[[4, 0], [5, 0]], [[0, 2, 3], [4, 4, 4]], [[17, 15], [2, 2]]]\n"
     ]
    }
   ],
   "source": [
    "x = [[[0, 2, 3], [4, 4, 4]], [[4, 0],\n",
    "[5, 0]], [[17 , 15], [2, 2]]]\n",
    "\n",
    "def sumalista(listaNumeros):\n",
    "    laSuma = 0\n",
    "    for i in range(len(listaNumeros)):\n",
    "        for j in range(len(listaNumeros[i])):\n",
    "            laSuma = laSuma + listaNumeros[i][j]\n",
    "    return laSuma\n",
    "\n",
    "def indice_menor_elemento(lista):\n",
    "    menor = sumalista(lista[0])\n",
    "    indice = 0\n",
    "    for i in range(len(lista)):\n",
    "        if sumalista(lista[i]) < menor:\n",
    "            menor = sumalista(lista[i])\n",
    "            indice = i\n",
    "    return indice\n",
    "\n",
    "\n",
    "def ordenar(lista):\n",
    "    for i in range(len(lista)):\n",
    "        indice = indice_menor_elemento(lista[i:])\n",
    "        aux = lista[indice + i]\n",
    "        lista[indice + i] = lista[i]\n",
    "        lista[i] = aux\n",
    "    return lista\n",
    "\n",
    "print(ordenar(x))"
   ]
  },
  {
   "cell_type": "markdown",
   "metadata": {},
   "source": [
    "### Complejidad algorítmica: $ \\mathcal{O}(n^2)$"
   ]
  },
  {
   "cell_type": "markdown",
   "metadata": {},
   "source": [
    "### Prob. 8"
   ]
  },
  {
   "cell_type": "code",
   "execution_count": 7,
   "metadata": {},
   "outputs": [
    {
     "name": "stdout",
     "output_type": "stream",
     "text": [
      "[[2, 4, 0, 0], [1, 2, 3], [5, 5]]\n"
     ]
    }
   ],
   "source": [
    "x = [[5, 5], [1, 2, 3], [2, 4, 0, 0]]\n",
    "\n",
    "def prom(listaNumeros):\n",
    "    laSuma = 0\n",
    "    for i in listaNumeros:\n",
    "        laSuma = laSuma + i\n",
    "    return laSuma/len(listaNumeros)\n",
    "\n",
    "def indice_menor_elemento(lista):\n",
    "    menor = prom(lista[0])\n",
    "    indice = 0\n",
    "    for i in range(len(lista)):\n",
    "        if prom(lista[i]) < menor:\n",
    "            menor = prom(lista[i])\n",
    "            indice = i\n",
    "    return indice\n",
    "\n",
    "\n",
    "def ordenar(lista):\n",
    "    for i in range(len(lista)):\n",
    "        indice = indice_menor_elemento(lista[i:])\n",
    "        aux = lista[indice + i]\n",
    "        lista[indice + i] = lista[i]\n",
    "        lista[i] = aux\n",
    "    return lista\n",
    "\n",
    "print(ordenar(x))\n"
   ]
  },
  {
   "cell_type": "markdown",
   "metadata": {},
   "source": [
    "### Complejidad algorítmica: $ \\mathcal{O}(n^2)$"
   ]
  },
  {
   "cell_type": "markdown",
   "metadata": {},
   "source": [
    "## Búsqueda binaria"
   ]
  },
  {
   "cell_type": "markdown",
   "metadata": {},
   "source": [
    "### Prob. 1"
   ]
  },
  {
   "cell_type": "code",
   "execution_count": 10,
   "metadata": {},
   "outputs": [
    {
     "name": "stdin",
     "output_type": "stream",
     "text": [
      "que autor busca?  Gorilon\n"
     ]
    },
    {
     "name": "stdout",
     "output_type": "stream",
     "text": [
      "actor: Gorilon\n",
      "nacionalidad: brasilera\n",
      "pelicula: asesinos locos\n"
     ]
    }
   ],
   "source": [
    "actores = [{\"actor\": \"Felipe\", \"nacionalidad\": \"peruana\", \"pelicula\": \"loco por mary\"}, \n",
    "          {\"actor\": \"Gorilon\", \"nacionalidad\": \"brasilera\", \"pelicula\": \"asesinos locos\"}, \n",
    "          {\"actor\": \"Grecia\", \"nacionalidad\": \"cubana\", \"pelicula\": \"salvando al soldado Jacinto\"}, \n",
    "          {\"actor\": \"Teresita\", \"nacionalidad\": \"venezolana\", \"pelicula\": \"tres y dos son ocho\"}]\n",
    "\n",
    "\n",
    "def encontrar(arr, x):\n",
    "    encontro = False\n",
    "    for i in range(len(arr)):\n",
    "        if x == arr[i].get('actor'):\n",
    "            encontro = True\n",
    "            posicion = i\n",
    "    if encontro == True:\n",
    "        for i in arr[posicion].keys():\n",
    "            print('{}: {}'.format(i, arr[posicion].get(i)))\n",
    "    else:\n",
    "        print(\"{} NO se encuentra en la lista\".format(x))\n",
    "\n",
    "\n",
    "x = input('que autor busca? ')\n",
    "\n",
    "encontrar(actores, x)"
   ]
  },
  {
   "cell_type": "markdown",
   "metadata": {},
   "source": [
    "### Complejidad algorítmica: $ \\mathcal{O}(n)$"
   ]
  },
  {
   "cell_type": "markdown",
   "metadata": {},
   "source": [
    "### Prob. 2"
   ]
  },
  {
   "cell_type": "code",
   "execution_count": 11,
   "metadata": {},
   "outputs": [
    {
     "name": "stdin",
     "output_type": "stream",
     "text": [
      "Ingese un año  2002\n"
     ]
    },
    {
     "name": "stdout",
     "output_type": "stream",
     "text": [
      "Película: El viaje de Chihiro\n"
     ]
    }
   ],
   "source": [
    "películas = [{'título': 'Shrek ', 'año': 2001},\n",
    "             {'título': 'El viaje de Chihiro', 'año': 2002},\n",
    "             {'título': 'Buscando a Nemo', 'año': 2003},\n",
    "             {'título': 'Los Increíbles', 'año': 2004},\n",
    "             {'título': 'Wallace y Gromit', 'año': 2005},\n",
    "             {'título': 'Happy Feet', 'año': 2006},\n",
    "             {'título': 'Ratatouille', 'año': 2007},\n",
    "             {'título': 'WALL-E', 'año': 2008},\n",
    "             {'título': 'Up', 'año': 2009},\n",
    "             {'título': 'Toy Story 3', 'año': 2010},\n",
    "             {'título': 'Rango', 'año': 2011},\n",
    "             {'título': 'Valiente', 'año': 2012},\n",
    "             {'título': 'Frozen', 'año': 2013},\n",
    "             {'título': 'Grandes Héroes', 'año': 2014}]\n",
    "\n",
    "\n",
    "def encontrar(arr, x):\n",
    "    encontro = False\n",
    "    for i in range(len(arr)):\n",
    "        if x == arr[i].get('año'):\n",
    "            encontro = True\n",
    "            posicion = i\n",
    "    if encontro == True:\n",
    "        print('Película: {}'.format(arr[posicion].get('título')))\n",
    "    else:\n",
    "        print(\"{} NO se encuentra en la lista\".format(x))\n",
    "\n",
    "\n",
    "x = int(input('Ingese un año '))\n",
    "encontrar(películas, x)\n"
   ]
  },
  {
   "cell_type": "markdown",
   "metadata": {},
   "source": [
    "### Complejidad algorítmica: $ \\mathcal{O}(n)$"
   ]
  },
  {
   "cell_type": "markdown",
   "metadata": {},
   "source": [
    "### Prob. 3"
   ]
  },
  {
   "cell_type": "code",
   "execution_count": 2,
   "metadata": {},
   "outputs": [
    {
     "name": "stdin",
     "output_type": "stream",
     "text": [
      "Ingese un año  2019\n"
     ]
    },
    {
     "name": "stdout",
     "output_type": "stream",
     "text": [
      "Ganadores: James Peebles, Mayor y Queloz\n"
     ]
    }
   ],
   "source": [
    "\n",
    "películas = [{'año': 2010, 'nombre': 'Andre Geim y Konstantín Novosiólov'},\n",
    "             {'año': 2011, 'nombre': 'Perlmutter, Schmidt y Adam Riess'},\n",
    "             {'año': 2012, 'nombre': 'Serge Haroche y David Wineland'},\n",
    "             {'año': 2013, 'nombre': 'Peter Higgs y Fran¸cois Englert'},\n",
    "             {'año': 2014, 'nombre': 'Akasaki, Hiroshi Amano y Nakamura'},\n",
    "             {'año': 2015, 'nombre': 'Takaaki Kajita y Arthur B. McDonald'},\n",
    "             {'año': 2016, 'nombre': 'Thouless, Haldane y Kosterlitz'},\n",
    "             {'año': 2017, 'nombre': 'Rainer Weiss, Barry Barish y Thorne'},\n",
    "             {'año': 2018, 'nombre': 'Donna Strickland, Mourou y Ashkin'},\n",
    "             {'año': 2019, 'nombre': 'James Peebles, Mayor y Queloz'}]\n",
    "\n",
    "\n",
    "def encontrar(arr, x):\n",
    "    encontro = False\n",
    "    for i in range(len(arr)):\n",
    "        if x == arr[i].get('año'):\n",
    "            encontro = True\n",
    "            posicion = i\n",
    "    if encontro == True:\n",
    "        print('Ganadores: {}'.format(arr[posicion].get('nombre')))\n",
    "    else:\n",
    "        print(\"{} NO se encuentra en la lista\".format(x))\n",
    "\n",
    "\n",
    "x = int(input('Ingese un año '))\n",
    "encontrar(películas, x)\n"
   ]
  },
  {
   "cell_type": "markdown",
   "metadata": {},
   "source": [
    "### Complejidad algorítmica: $ \\mathcal{O}(n)$"
   ]
  },
  {
   "cell_type": "markdown",
   "metadata": {},
   "source": [
    "### Prob. 4"
   ]
  },
  {
   "cell_type": "code",
   "execution_count": 3,
   "metadata": {},
   "outputs": [
    {
     "name": "stdin",
     "output_type": "stream",
     "text": [
      "Ingese el dni  29718806\n"
     ]
    },
    {
     "name": "stdout",
     "output_type": "stream",
     "text": [
      "Nombre: samuel, tipo de sangre: rh-\n"
     ]
    }
   ],
   "source": [
    "expedientes=[{'nombre': 'juan', 'tipo': 'rh-', 'dni': 11489834},\n",
    "             {'nombre': 'maria', 'tipo': 'a+','dni': 12832055},\n",
    "             {'nombre': 'jose', 'tipo': 'a-', 'dni': 12832055},\n",
    "             {'nombre': 'paola', 'tipo': 'o+', 'dni': 12869666},\n",
    "             {'nombre': 'gabriel', 'tipo': 'o+', 'dni': 13869179},\n",
    "             {'nombre': 'maria', 'tipo': 'o+', 'dni': 16019959},\n",
    "             {'nombre': 'susana', 'tipo': 'rh-', 'dni': 16426202},\n",
    "             {'nombre': 'sofia', 'tipo': 'rh-', 'dni': 18947201},\n",
    "             {'nombre': 'manuel', 'tipo': 'b-', 'dni': 18947201},\n",
    "             {'nombre': 'elene', 'tipo': 'b+', 'dni': 25480016},\n",
    "             {'nombre': 'javier', 'tipo': 'rh-', 'dni': 28678360},\n",
    "             {'nombre': 'rosario', 'tipo': 'rh-', 'dni': 28717605},\n",
    "             {'nombre': 'jhuly', 'tipo': 'rh-', 'dni': 29600532},\n",
    "             {'nombre': 'samuel', 'tipo': 'rh-', 'dni': 29718806}]\n",
    "\n",
    "\n",
    "def encontrar(arr, x):\n",
    "    encontro = False\n",
    "    for i in range(len(arr)):\n",
    "        if (x == arr[i].get('dni')):\n",
    "            encontro = True\n",
    "            posicion = i\n",
    "    if encontro == True:\n",
    "        print('Nombre: {}, tipo de sangre: {}'.format(arr[posicion].get('nombre'), arr[posicion].get('tipo')))\n",
    "    else:\n",
    "        print(\"{} NO se encuentra en la lista\".format(x))\n",
    "\n",
    "\n",
    "x = int(input('Ingese el dni '))\n",
    "encontrar(expedientes, x)\n"
   ]
  },
  {
   "cell_type": "markdown",
   "metadata": {},
   "source": [
    "### Complejidad algorítmica $ \\mathcal{O}(n)$"
   ]
  },
  {
   "cell_type": "code",
   "execution_count": null,
   "metadata": {},
   "outputs": [],
   "source": []
  }
 ],
 "metadata": {
  "kernelspec": {
   "display_name": "Python 3 (Spyder)",
   "language": "python3",
   "name": "python3"
  },
  "language_info": {
   "codemirror_mode": {
    "name": "ipython",
    "version": 3
   },
   "file_extension": ".py",
   "mimetype": "text/x-python",
   "name": "python",
   "nbconvert_exporter": "python",
   "pygments_lexer": "ipython3",
   "version": "3.8.5"
  }
 },
 "nbformat": 4,
 "nbformat_minor": 4
}
